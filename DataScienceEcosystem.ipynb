{
 "cells": [
  {
   "cell_type": "markdown",
   "id": "3a1f96ae-ac6f-42fd-a3e5-614a427b3b08",
   "metadata": {},
   "source": [
    "# Data Science Tools and Ecosystem"
   ]
  },
  {
   "cell_type": "markdown",
   "id": "eb7167f8-e7ea-4545-b810-00ef639a1577",
   "metadata": {},
   "source": [
    "In this notebook, Data Science Tools and Ecosystem are summarized."
   ]
  },
  {
   "cell_type": "markdown",
   "id": "b59e0845-82e2-4610-b8b3-e734f875f60d",
   "metadata": {},
   "source": [
    "**Objectives:**\n",
    "\n",
    "- List popular languages for Data Science\n",
    "- List commonly used libraries in Data Science\n",
    "- Identify open source development tools for Data Science\n",
    "- Demonstrate basic arithmetic operations in Python\n",
    "- Convert units using Python expressions"
   ]
  },
  {
   "cell_type": "markdown",
   "id": "45d2cb3b-bc7e-49c0-8419-861810a15b94",
   "metadata": {},
   "source": [
    "Some of the popular languages that Data Scientists use are:\n",
    "\n",
    "1. Python  \n",
    "2. R  \n",
    "3. SQL  \n",
    "4. Java  \n",
    "5. Julia  \n",
    "6. Scala  \n",
    "7. MATLAB  \n",
    "8. SAS  \n",
    "9. C++  \n",
    "10. JavaScript  "
   ]
  },
  {
   "cell_type": "markdown",
   "id": "f09a0a05-746a-4ef3-810f-8f19915db8ad",
   "metadata": {},
   "source": [
    "Some of the commonly used libraries used by Data Scientists include:\n",
    "\n",
    "1. Pandas  \n",
    "2. NumPy  \n",
    "3. Matplotlib  \n",
    "4. Seaborn  \n",
    "5. Scikit-learn  \n",
    "6. Keras\n",
    "7. TensorFlow  \n",
    "8. PyTorch\n",
    "9. Apache Spark\n",
    "10. Vegas"
   ]
  },
  {
   "cell_type": "markdown",
   "id": "86ea6ae8-adee-430c-aae0-a5f990b29762",
   "metadata": {},
   "source": [
    "| Data Science Tools |\n",
    "|---------------------|\n",
    "| Anaconda            |\n",
    "| Jupyter Notebook    |\n",
    "| RStudio             |\n",
    "| Spyder              |\n",
    "| Apache Zeppelin     |"
   ]
  },
  {
   "cell_type": "markdown",
   "id": "b8a0f0cf-edec-4d26-9252-39dd3e83c3fd",
   "metadata": {},
   "source": [
    "### Below are a few examples of evaluating arithmetic expressions in Python."
   ]
  },
  {
   "cell_type": "code",
   "execution_count": 4,
   "id": "60d28921-94a7-474b-b3ba-a1c6f8ed22cf",
   "metadata": {},
   "outputs": [
    {
     "data": {
      "text/plain": [
       "17"
      ]
     },
     "execution_count": 4,
     "metadata": {},
     "output_type": "execute_result"
    }
   ],
   "source": [
    "# This is a simple arithmetic expression to multiply then add integers.\n",
    "(3 * 4) + 5"
   ]
  },
  {
   "cell_type": "code",
   "execution_count": 5,
   "id": "d9c5f5e4-ddc4-4b7f-8a8d-815d8818ea93",
   "metadata": {},
   "outputs": [
    {
     "data": {
      "text/plain": [
       "3.3333333333333335"
      ]
     },
     "execution_count": 5,
     "metadata": {},
     "output_type": "execute_result"
    }
   ],
   "source": [
    "# This will convert 200 minutes to hours by dividing by 60\n",
    "minutes = 200\n",
    "hours = minutes / 60\n",
    "hours"
   ]
  },
  {
   "cell_type": "markdown",
   "id": "9baf8fad-c13f-4699-a475-388da2cd8e42",
   "metadata": {},
   "source": [
    "## Author\n",
    "\n",
    "Gaddam Rukmangada Reddy"
   ]
  },
  {
   "cell_type": "code",
   "execution_count": null,
   "id": "2f0db85e-bcf4-4d5f-95d6-c1e1416897c7",
   "metadata": {},
   "outputs": [],
   "source": []
  }
 ],
 "metadata": {
  "kernelspec": {
   "display_name": "Python 3 (ipykernel)",
   "language": "python",
   "name": "python3"
  },
  "language_info": {
   "codemirror_mode": {
    "name": "ipython",
    "version": 3
   },
   "file_extension": ".py",
   "mimetype": "text/x-python",
   "name": "python",
   "nbconvert_exporter": "python",
   "pygments_lexer": "ipython3",
   "version": "3.13.5"
  }
 },
 "nbformat": 4,
 "nbformat_minor": 5
}
